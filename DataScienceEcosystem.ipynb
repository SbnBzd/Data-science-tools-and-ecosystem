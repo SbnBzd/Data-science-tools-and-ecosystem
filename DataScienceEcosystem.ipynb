{
 "cells": [
  {
   "cell_type": "markdown",
   "id": "814906ef-11e9-47c2-bf33-30a670424082",
   "metadata": {},
   "source": [
    "<h1>Data Science Tools and Ecosystem </h1>\n"
   ]
  },
  {
   "cell_type": "markdown",
   "id": "683b3d51-eed5-4476-a246-abd85af79e6f",
   "metadata": {},
   "source": [
    "<p> In this notebook , Data Science Tools and Ecosystems are summarized.</p>\n"
   ]
  },
  {
   "cell_type": "markdown",
   "id": "1f7485eb-96bb-4ead-83b9-42f02c5a3ba5",
   "metadata": {},
   "source": [
    "<b> Objectives: </b>"
   ]
  },
  {
   "cell_type": "markdown",
   "id": "a0a02279-d1f7-4b85-ac7d-556dcaa173e3",
   "metadata": {},
   "source": [
    "* List popular languages for Data Science.\n",
    "* List popular libraries for Data Science.\n",
    "* Commonly used Data Science Tools.\n",
    "* Examples of Arithmetic Operations."
   ]
  },
  {
   "cell_type": "markdown",
   "id": "a4778bb6-f011-47ca-a2f4-5e95b6ea74ca",
   "metadata": {},
   "source": [
    "<p> Some of the popular languages that Data Scientists used are: </p>\n",
    "\n"
   ]
  },
  {
   "cell_type": "markdown",
   "id": "252bfe54-5502-4373-9ef2-dfaeae904c3a",
   "metadata": {},
   "source": [
    "1. Python\n",
    "2. R\n",
    "3. SQL"
   ]
  },
  {
   "cell_type": "markdown",
   "id": "6de918d7-a13e-4f73-bde0-85ceb5f13dd7",
   "metadata": {},
   "source": [
    "<p> Some of the commonly used libraries used by the Data Scientists include :</p>"
   ]
  },
  {
   "cell_type": "markdown",
   "id": "eb4dcbf9-1911-4e59-8700-c7717bf339dc",
   "metadata": {},
   "source": [
    "1. matplotlib\n",
    "2. pandas\n",
    "3. Pytorch"
   ]
  },
  {
   "cell_type": "markdown",
   "id": "6a0d6d86-2ff9-41e1-a8b2-bf6bdd219507",
   "metadata": {},
   "source": [
    "| Data Science Tools|\n",
    "|-------------------|\n",
    "|Jupyter Notebook|\n",
    "|VS Code|\n",
    "|Google Colab|"
   ]
  },
  {
   "cell_type": "markdown",
   "id": "f89006bd-8432-4d59-bb97-107780398054",
   "metadata": {},
   "source": [
    "<h3> Below are a few examples of evaluating arithmetic expressions in Python </h3>"
   ]
  },
  {
   "cell_type": "code",
   "execution_count": 22,
   "id": "9ba07cb6-1ff1-477b-b0cd-4fc9a67612a8",
   "metadata": {},
   "outputs": [
    {
     "data": {
      "text/plain": [
       "17"
      ]
     },
     "execution_count": 22,
     "metadata": {},
     "output_type": "execute_result"
    }
   ],
   "source": [
    "# This a simple arithmetic expression to mutiply then add integers\n",
    "(3*4)+5"
   ]
  },
  {
   "cell_type": "code",
   "execution_count": 24,
   "id": "ec688269-85c3-4fb2-b661-ff24abea1348",
   "metadata": {},
   "outputs": [
    {
     "data": {
      "text/plain": [
       "3.3333333333333335"
      ]
     },
     "execution_count": 24,
     "metadata": {},
     "output_type": "execute_result"
    }
   ],
   "source": [
    "# This will convert 200 minutes to hours by diving by 60\n",
    "200/60"
   ]
  },
  {
   "cell_type": "markdown",
   "id": "20c94e75-97ce-4228-8c4f-6e0e900d9a3a",
   "metadata": {},
   "source": [
    "<h2> Author </h2>"
   ]
  },
  {
   "cell_type": "markdown",
   "id": "bc2895a0-5834-4262-bd24-0dc44f0d047e",
   "metadata": {},
   "source": [
    "<p>Souban Behzad </p>"
   ]
  },
  {
   "cell_type": "code",
   "execution_count": null,
   "id": "a03972a3-5000-4818-92cc-8aa3fe605b45",
   "metadata": {},
   "outputs": [],
   "source": []
  }
 ],
 "metadata": {
  "kernelspec": {
   "display_name": "Python [conda env:base] *",
   "language": "python",
   "name": "conda-base-py"
  },
  "language_info": {
   "codemirror_mode": {
    "name": "ipython",
    "version": 3
   },
   "file_extension": ".py",
   "mimetype": "text/x-python",
   "name": "python",
   "nbconvert_exporter": "python",
   "pygments_lexer": "ipython3",
   "version": "3.12.7"
  }
 },
 "nbformat": 4,
 "nbformat_minor": 5
}
